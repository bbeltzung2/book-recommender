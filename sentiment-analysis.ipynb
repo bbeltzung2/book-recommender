{
 "cells": [
  {
   "cell_type": "code",
   "id": "initial_id",
   "metadata": {
    "collapsed": true,
    "ExecuteTime": {
     "end_time": "2025-05-29T10:01:16.047569Z",
     "start_time": "2025-05-29T10:01:15.980738Z"
    }
   },
   "source": [
    "import pandas as pd\n",
    "\n",
    "books = pd.read_csv(\"books_with_categories.csv\")"
   ],
   "outputs": [],
   "execution_count": 1
  },
  {
   "metadata": {
    "ExecuteTime": {
     "end_time": "2025-05-29T10:01:52.438080Z",
     "start_time": "2025-05-29T10:01:26.762791Z"
    }
   },
   "cell_type": "code",
   "source": [
    "from transformers import pipeline\n",
    "classifier = pipeline(\"text-classification\",\n",
    "                      model=\"j-hartmann/emotion-english-distilroberta-base\",\n",
    "                      top_k = None,\n",
    "                      device = \"cuda\")\n",
    "classifier(\"I love this!\")"
   ],
   "id": "409b6e1cbebe9a43",
   "outputs": [
    {
     "data": {
      "text/plain": [
       "config.json:   0%|          | 0.00/1.00k [00:00<?, ?B/s]"
      ],
      "application/vnd.jupyter.widget-view+json": {
       "version_major": 2,
       "version_minor": 0,
       "model_id": "02dd4088f4824bbdbae104da3e29360d"
      }
     },
     "metadata": {},
     "output_type": "display_data"
    },
    {
     "name": "stderr",
     "output_type": "stream",
     "text": [
      "C:\\Users\\bbeltzun\\PycharmProjects\\book-recommender\\.venv\\Lib\\site-packages\\huggingface_hub\\file_download.py:143: UserWarning: `huggingface_hub` cache-system uses symlinks by default to efficiently store duplicated files but your machine does not support them in C:\\Users\\bbeltzun\\.cache\\huggingface\\hub\\models--j-hartmann--emotion-english-distilroberta-base. Caching files will still work but in a degraded version that might require more space on your disk. This warning can be disabled by setting the `HF_HUB_DISABLE_SYMLINKS_WARNING` environment variable. For more details, see https://huggingface.co/docs/huggingface_hub/how-to-cache#limitations.\n",
      "To support symlinks on Windows, you either need to activate Developer Mode or to run Python as an administrator. In order to activate developer mode, see this article: https://docs.microsoft.com/en-us/windows/apps/get-started/enable-your-device-for-development\n",
      "  warnings.warn(message)\n",
      "Xet Storage is enabled for this repo, but the 'hf_xet' package is not installed. Falling back to regular HTTP download. For better performance, install the package with: `pip install huggingface_hub[hf_xet]` or `pip install hf_xet`\n"
     ]
    },
    {
     "data": {
      "text/plain": [
       "pytorch_model.bin:   0%|          | 0.00/329M [00:00<?, ?B/s]"
      ],
      "application/vnd.jupyter.widget-view+json": {
       "version_major": 2,
       "version_minor": 0,
       "model_id": "94988c8890b84b8283fbfdae942fc216"
      }
     },
     "metadata": {},
     "output_type": "display_data"
    },
    {
     "data": {
      "text/plain": [
       "tokenizer_config.json:   0%|          | 0.00/294 [00:00<?, ?B/s]"
      ],
      "application/vnd.jupyter.widget-view+json": {
       "version_major": 2,
       "version_minor": 0,
       "model_id": "e035e65e7aca4620a526312e96424642"
      }
     },
     "metadata": {},
     "output_type": "display_data"
    },
    {
     "data": {
      "text/plain": [
       "vocab.json:   0%|          | 0.00/798k [00:00<?, ?B/s]"
      ],
      "application/vnd.jupyter.widget-view+json": {
       "version_major": 2,
       "version_minor": 0,
       "model_id": "042b0f754d1a4f47b4610a844dcec0df"
      }
     },
     "metadata": {},
     "output_type": "display_data"
    },
    {
     "name": "stderr",
     "output_type": "stream",
     "text": [
      "Xet Storage is enabled for this repo, but the 'hf_xet' package is not installed. Falling back to regular HTTP download. For better performance, install the package with: `pip install huggingface_hub[hf_xet]` or `pip install hf_xet`\n"
     ]
    },
    {
     "data": {
      "text/plain": [
       "model.safetensors:   0%|          | 0.00/329M [00:00<?, ?B/s]"
      ],
      "application/vnd.jupyter.widget-view+json": {
       "version_major": 2,
       "version_minor": 0,
       "model_id": "708e73e99518494c8bc298fa8b6fa0d4"
      }
     },
     "metadata": {},
     "output_type": "display_data"
    },
    {
     "data": {
      "text/plain": [
       "merges.txt:   0%|          | 0.00/456k [00:00<?, ?B/s]"
      ],
      "application/vnd.jupyter.widget-view+json": {
       "version_major": 2,
       "version_minor": 0,
       "model_id": "651f5cacf70d437eb3c190efced7d313"
      }
     },
     "metadata": {},
     "output_type": "display_data"
    },
    {
     "data": {
      "text/plain": [
       "tokenizer.json:   0%|          | 0.00/1.36M [00:00<?, ?B/s]"
      ],
      "application/vnd.jupyter.widget-view+json": {
       "version_major": 2,
       "version_minor": 0,
       "model_id": "458586c725cc4b3bbcb3d3654087c6e0"
      }
     },
     "metadata": {},
     "output_type": "display_data"
    },
    {
     "data": {
      "text/plain": [
       "special_tokens_map.json:   0%|          | 0.00/239 [00:00<?, ?B/s]"
      ],
      "application/vnd.jupyter.widget-view+json": {
       "version_major": 2,
       "version_minor": 0,
       "model_id": "7b15630e4a9d4184bd229bf6f68d983d"
      }
     },
     "metadata": {},
     "output_type": "display_data"
    },
    {
     "name": "stderr",
     "output_type": "stream",
     "text": [
      "Device set to use cuda\n"
     ]
    },
    {
     "data": {
      "text/plain": [
       "[[{'label': 'joy', 'score': 0.9771687984466553},\n",
       "  {'label': 'surprise', 'score': 0.008528676815330982},\n",
       "  {'label': 'neutral', 'score': 0.005764591973274946},\n",
       "  {'label': 'anger', 'score': 0.004419781267642975},\n",
       "  {'label': 'sadness', 'score': 0.002092393347993493},\n",
       "  {'label': 'disgust', 'score': 0.001611992483958602},\n",
       "  {'label': 'fear', 'score': 0.00041385178337804973}]]"
      ]
     },
     "execution_count": 2,
     "metadata": {},
     "output_type": "execute_result"
    }
   ],
   "execution_count": 2
  },
  {
   "metadata": {
    "ExecuteTime": {
     "end_time": "2025-05-29T10:02:52.586279Z",
     "start_time": "2025-05-29T10:02:52.583183Z"
    }
   },
   "cell_type": "code",
   "source": "books[\"description\"][0]",
   "id": "5b0438d2c33ba48d",
   "outputs": [
    {
     "data": {
      "text/plain": [
       "'A NOVEL THAT READERS and critics have been eagerly anticipating for over a decade, Gilead is an astonishingly imagined story of remarkable lives. John Ames is a preacher, the son of a preacher and the grandson (both maternal and paternal) of preachers. It’s 1956 in Gilead, Iowa, towards the end of the Reverend Ames’s life, and he is absorbed in recording his family’s story, a legacy for the young son he will never see grow up. Haunted by his grandfather’s presence, John tells of the rift between his grandfather and his father: the elder, an angry visionary who fought for the abolitionist cause, and his son, an ardent pacifist. He is troubled, too, by his prodigal namesake, Jack (John Ames) Boughton, his best friend’s lost son who returns to Gilead searching for forgiveness and redemption. Told in John Ames’s joyous, rambling voice that finds beauty, humour and truth in the smallest of life’s details, Gilead is a song of celebration and acceptance of the best and the worst the world has to offer. At its heart is a tale of the sacred bonds between fathers and sons, pitch-perfect in style and story, set to dazzle critics and readers alike.'"
      ]
     },
     "execution_count": 3,
     "metadata": {},
     "output_type": "execute_result"
    }
   ],
   "execution_count": 3
  },
  {
   "metadata": {
    "ExecuteTime": {
     "end_time": "2025-05-29T10:02:54.136852Z",
     "start_time": "2025-05-29T10:02:54.084498Z"
    }
   },
   "cell_type": "code",
   "source": "classifier(books[\"description\"][0])",
   "id": "7b1fb9a89af30ad3",
   "outputs": [
    {
     "data": {
      "text/plain": [
       "[[{'label': 'fear', 'score': 0.6548433899879456},\n",
       "  {'label': 'neutral', 'score': 0.16985109448432922},\n",
       "  {'label': 'sadness', 'score': 0.11640793830156326},\n",
       "  {'label': 'surprise', 'score': 0.020700635388493538},\n",
       "  {'label': 'disgust', 'score': 0.019100651144981384},\n",
       "  {'label': 'joy', 'score': 0.015161151066422462},\n",
       "  {'label': 'anger', 'score': 0.003935144282877445}]]"
      ]
     },
     "execution_count": 4,
     "metadata": {},
     "output_type": "execute_result"
    }
   ],
   "execution_count": 4
  },
  {
   "metadata": {
    "ExecuteTime": {
     "end_time": "2025-05-29T10:03:01.286938Z",
     "start_time": "2025-05-29T10:03:01.139441Z"
    }
   },
   "cell_type": "code",
   "source": "classifier(books[\"description\"][0].split(\".\"))",
   "id": "7d6147265bc9752a",
   "outputs": [
    {
     "data": {
      "text/plain": [
       "[[{'label': 'surprise', 'score': 0.7296027541160583},\n",
       "  {'label': 'neutral', 'score': 0.1403856873512268},\n",
       "  {'label': 'fear', 'score': 0.06816213577985764},\n",
       "  {'label': 'joy', 'score': 0.04794241860508919},\n",
       "  {'label': 'anger', 'score': 0.009156357496976852},\n",
       "  {'label': 'disgust', 'score': 0.002628474263474345},\n",
       "  {'label': 'sadness', 'score': 0.002122161677107215}],\n",
       " [{'label': 'neutral', 'score': 0.44937071204185486},\n",
       "  {'label': 'disgust', 'score': 0.2735914885997772},\n",
       "  {'label': 'joy', 'score': 0.10908304899930954},\n",
       "  {'label': 'sadness', 'score': 0.09362723678350449},\n",
       "  {'label': 'anger', 'score': 0.04047830402851105},\n",
       "  {'label': 'surprise', 'score': 0.026970189064741135},\n",
       "  {'label': 'fear', 'score': 0.006879047490656376}],\n",
       " [{'label': 'neutral', 'score': 0.6462165713310242},\n",
       "  {'label': 'sadness', 'score': 0.2427327036857605},\n",
       "  {'label': 'disgust', 'score': 0.04342266544699669},\n",
       "  {'label': 'surprise', 'score': 0.028300520032644272},\n",
       "  {'label': 'joy', 'score': 0.014211472123861313},\n",
       "  {'label': 'fear', 'score': 0.014084110967814922},\n",
       "  {'label': 'anger', 'score': 0.01103189680725336}],\n",
       " [{'label': 'fear', 'score': 0.9281678199768066},\n",
       "  {'label': 'anger', 'score': 0.032191164791584015},\n",
       "  {'label': 'neutral', 'score': 0.012808755971491337},\n",
       "  {'label': 'sadness', 'score': 0.008756903931498528},\n",
       "  {'label': 'surprise', 'score': 0.008597961626946926},\n",
       "  {'label': 'disgust', 'score': 0.00843187514692545},\n",
       "  {'label': 'joy', 'score': 0.0010455847950652242}],\n",
       " [{'label': 'sadness', 'score': 0.9671574234962463},\n",
       "  {'label': 'neutral', 'score': 0.015104176476597786},\n",
       "  {'label': 'disgust', 'score': 0.006480601150542498},\n",
       "  {'label': 'fear', 'score': 0.005393999628722668},\n",
       "  {'label': 'surprise', 'score': 0.0022869459353387356},\n",
       "  {'label': 'anger', 'score': 0.0018428919138386846},\n",
       "  {'label': 'joy', 'score': 0.0017338803736492991}],\n",
       " [{'label': 'joy', 'score': 0.9327973127365112},\n",
       "  {'label': 'disgust', 'score': 0.037717632949352264},\n",
       "  {'label': 'neutral', 'score': 0.01589193381369114},\n",
       "  {'label': 'sadness', 'score': 0.006444534286856651},\n",
       "  {'label': 'anger', 'score': 0.005025011952966452},\n",
       "  {'label': 'surprise', 'score': 0.0015812083147466183},\n",
       "  {'label': 'fear', 'score': 0.0005423093680292368}],\n",
       " [{'label': 'joy', 'score': 0.652870774269104},\n",
       "  {'label': 'neutral', 'score': 0.25427451729774475},\n",
       "  {'label': 'surprise', 'score': 0.06808312237262726},\n",
       "  {'label': 'sadness', 'score': 0.009908990003168583},\n",
       "  {'label': 'disgust', 'score': 0.006512200925499201},\n",
       "  {'label': 'anger', 'score': 0.004821315407752991},\n",
       "  {'label': 'fear', 'score': 0.003529015462845564}],\n",
       " [{'label': 'neutral', 'score': 0.549476683139801},\n",
       "  {'label': 'sadness', 'score': 0.11169018596410751},\n",
       "  {'label': 'disgust', 'score': 0.10400673002004623},\n",
       "  {'label': 'surprise', 'score': 0.07876553386449814},\n",
       "  {'label': 'anger', 'score': 0.0641336590051651},\n",
       "  {'label': 'fear', 'score': 0.05136283487081528},\n",
       "  {'label': 'joy', 'score': 0.040564414113759995}]]"
      ]
     },
     "execution_count": 5,
     "metadata": {},
     "output_type": "execute_result"
    }
   ],
   "execution_count": 5
  },
  {
   "metadata": {
    "ExecuteTime": {
     "end_time": "2025-05-29T10:03:09.544369Z",
     "start_time": "2025-05-29T10:03:09.406623Z"
    }
   },
   "cell_type": "code",
   "source": [
    "sentences = books[\"description\"][0].split(\".\")\n",
    "predictions = classifier(sentences)"
   ],
   "id": "c06e3e81ce531abc",
   "outputs": [],
   "execution_count": 6
  },
  {
   "metadata": {
    "ExecuteTime": {
     "end_time": "2025-05-29T10:03:18.137942Z",
     "start_time": "2025-05-29T10:03:18.134914Z"
    }
   },
   "cell_type": "code",
   "source": "sentences[0]",
   "id": "55eb02dd4dd5a86f",
   "outputs": [
    {
     "data": {
      "text/plain": [
       "'A NOVEL THAT READERS and critics have been eagerly anticipating for over a decade, Gilead is an astonishingly imagined story of remarkable lives'"
      ]
     },
     "execution_count": 7,
     "metadata": {},
     "output_type": "execute_result"
    }
   ],
   "execution_count": 7
  },
  {
   "metadata": {
    "ExecuteTime": {
     "end_time": "2025-05-29T10:03:24.885846Z",
     "start_time": "2025-05-29T10:03:24.882942Z"
    }
   },
   "cell_type": "code",
   "source": "predictions[0]",
   "id": "36dbd851ec335e15",
   "outputs": [
    {
     "data": {
      "text/plain": [
       "[{'label': 'surprise', 'score': 0.7296027541160583},\n",
       " {'label': 'neutral', 'score': 0.1403856873512268},\n",
       " {'label': 'fear', 'score': 0.06816213577985764},\n",
       " {'label': 'joy', 'score': 0.04794241860508919},\n",
       " {'label': 'anger', 'score': 0.009156357496976852},\n",
       " {'label': 'disgust', 'score': 0.002628474263474345},\n",
       " {'label': 'sadness', 'score': 0.002122161677107215}]"
      ]
     },
     "execution_count": 8,
     "metadata": {},
     "output_type": "execute_result"
    }
   ],
   "execution_count": 8
  },
  {
   "metadata": {
    "ExecuteTime": {
     "end_time": "2025-05-29T10:04:04.828840Z",
     "start_time": "2025-05-29T10:04:04.825601Z"
    }
   },
   "cell_type": "code",
   "source": "sorted(predictions[0], key=lambda x: x[\"label\"])",
   "id": "bb0f0bf605720499",
   "outputs": [
    {
     "data": {
      "text/plain": [
       "[{'label': 'anger', 'score': 0.009156357496976852},\n",
       " {'label': 'disgust', 'score': 0.002628474263474345},\n",
       " {'label': 'fear', 'score': 0.06816213577985764},\n",
       " {'label': 'joy', 'score': 0.04794241860508919},\n",
       " {'label': 'neutral', 'score': 0.1403856873512268},\n",
       " {'label': 'sadness', 'score': 0.002122161677107215},\n",
       " {'label': 'surprise', 'score': 0.7296027541160583}]"
      ]
     },
     "execution_count": 9,
     "metadata": {},
     "output_type": "execute_result"
    }
   ],
   "execution_count": 9
  },
  {
   "metadata": {
    "ExecuteTime": {
     "end_time": "2025-05-29T10:04:24.730827Z",
     "start_time": "2025-05-29T10:04:24.727486Z"
    }
   },
   "cell_type": "code",
   "source": [
    "import numpy as np\n",
    "\n",
    "emotion_labels = [\"anger\", \"disgust\", \"fear\", \"joy\", \"sadness\", \"surprise\", \"neutral\"]\n",
    "isbn = []\n",
    "emotion_scores = {label: [] for label in emotion_labels}\n",
    "\n",
    "def calculate_max_emotion_scores(predictions):\n",
    "    per_emotion_scores = {label: [] for label in emotion_labels}\n",
    "    for prediction in predictions:\n",
    "        sorted_predictions = sorted(prediction, key=lambda x: x[\"label\"])\n",
    "        for index, label in enumerate(emotion_labels):\n",
    "            per_emotion_scores[label].append(sorted_predictions[index][\"score\"])\n",
    "    return {label: np.max(scores) for label, scores in per_emotion_scores.items()}"
   ],
   "id": "80c2dab2aa48c656",
   "outputs": [],
   "execution_count": 10
  },
  {
   "metadata": {
    "ExecuteTime": {
     "end_time": "2025-05-29T10:04:32.684043Z",
     "start_time": "2025-05-29T10:04:32.261797Z"
    }
   },
   "cell_type": "code",
   "source": [
    "for i in range(10):\n",
    "    isbn.append(books[\"isbn13\"][i])\n",
    "    sentences = books[\"description\"][i].split(\".\")\n",
    "    predictions = classifier(sentences)\n",
    "    max_scores = calculate_max_emotion_scores(predictions)\n",
    "    for label in emotion_labels:\n",
    "        emotion_scores[label].append(max_scores[label])"
   ],
   "id": "92b2eda01c943bae",
   "outputs": [
    {
     "name": "stderr",
     "output_type": "stream",
     "text": [
      "You seem to be using the pipelines sequentially on GPU. In order to maximize efficiency please use a dataset\n"
     ]
    }
   ],
   "execution_count": 11
  },
  {
   "metadata": {
    "ExecuteTime": {
     "end_time": "2025-05-29T10:04:57.551955Z",
     "start_time": "2025-05-29T10:04:57.548572Z"
    }
   },
   "cell_type": "code",
   "source": "emotion_scores",
   "id": "67af4cfa3602dcba",
   "outputs": [
    {
     "data": {
      "text/plain": [
       "{'anger': [np.float64(0.0641336590051651),\n",
       "  np.float64(0.6126185059547424),\n",
       "  np.float64(0.0641336590051651),\n",
       "  np.float64(0.35148367285728455),\n",
       "  np.float64(0.08141226321458817),\n",
       "  np.float64(0.232224240899086),\n",
       "  np.float64(0.5381839871406555),\n",
       "  np.float64(0.0641336590051651),\n",
       "  np.float64(0.3006700873374939),\n",
       "  np.float64(0.0641336590051651)],\n",
       " 'disgust': [np.float64(0.2735914885997772),\n",
       "  np.float64(0.34828484058380127),\n",
       "  np.float64(0.10400673002004623),\n",
       "  np.float64(0.15072233974933624),\n",
       "  np.float64(0.18449507653713226),\n",
       "  np.float64(0.7271755337715149),\n",
       "  np.float64(0.15585489571094513),\n",
       "  np.float64(0.10400673002004623),\n",
       "  np.float64(0.2794809639453888),\n",
       "  np.float64(0.17792744934558868)],\n",
       " 'fear': [np.float64(0.9281678199768066),\n",
       "  np.float64(0.942527711391449),\n",
       "  np.float64(0.9723208546638489),\n",
       "  np.float64(0.3607068955898285),\n",
       "  np.float64(0.09504339843988419),\n",
       "  np.float64(0.05136283487081528),\n",
       "  np.float64(0.7474284768104553),\n",
       "  np.float64(0.40449613332748413),\n",
       "  np.float64(0.9155239462852478),\n",
       "  np.float64(0.05136283487081528)],\n",
       " 'joy': [np.float64(0.9327973127365112),\n",
       "  np.float64(0.7044206857681274),\n",
       "  np.float64(0.7672367691993713),\n",
       "  np.float64(0.2518810033798218),\n",
       "  np.float64(0.040564414113759995),\n",
       "  np.float64(0.04337584227323532),\n",
       "  np.float64(0.8725652098655701),\n",
       "  np.float64(0.040564414113759995),\n",
       "  np.float64(0.040564414113759995),\n",
       "  np.float64(0.040564414113759995)],\n",
       " 'sadness': [np.float64(0.6462165713310242),\n",
       "  np.float64(0.8879395127296448),\n",
       "  np.float64(0.549476683139801),\n",
       "  np.float64(0.7326855063438416),\n",
       "  np.float64(0.8843895196914673),\n",
       "  np.float64(0.6213921904563904),\n",
       "  np.float64(0.7121942043304443),\n",
       "  np.float64(0.549476683139801),\n",
       "  np.float64(0.8402897119522095),\n",
       "  np.float64(0.8603722453117371)],\n",
       " 'surprise': [np.float64(0.9671574234962463),\n",
       "  np.float64(0.11169018596410751),\n",
       "  np.float64(0.11169018596410751),\n",
       "  np.float64(0.11169018596410751),\n",
       "  np.float64(0.47588086128234863),\n",
       "  np.float64(0.11169018596410751),\n",
       "  np.float64(0.4079991281032562),\n",
       "  np.float64(0.8202826380729675),\n",
       "  np.float64(0.35445940494537354),\n",
       "  np.float64(0.11169018596410751)],\n",
       " 'neutral': [np.float64(0.7296027541160583),\n",
       "  np.float64(0.25254490971565247),\n",
       "  np.float64(0.07876553386449814),\n",
       "  np.float64(0.07876553386449814),\n",
       "  np.float64(0.07876553386449814),\n",
       "  np.float64(0.27190324664115906),\n",
       "  np.float64(0.07876553386449814),\n",
       "  np.float64(0.23448733985424042),\n",
       "  np.float64(0.13561414182186127),\n",
       "  np.float64(0.07876553386449814)]}"
      ]
     },
     "execution_count": 12,
     "metadata": {},
     "output_type": "execute_result"
    }
   ],
   "execution_count": 12
  },
  {
   "metadata": {
    "ExecuteTime": {
     "end_time": "2025-05-29T10:06:54.834567Z",
     "start_time": "2025-05-29T10:05:24.004912Z"
    }
   },
   "cell_type": "code",
   "source": [
    "from tqdm import tqdm\n",
    "\n",
    "emotion_labels = [\"anger\", \"disgust\", \"fear\", \"joy\", \"sadness\", \"surprise\", \"neutral\"]\n",
    "isbn = []\n",
    "emotion_scores = {label: [] for label in emotion_labels}\n",
    "\n",
    "for i in tqdm(range(len(books))):\n",
    "    isbn.append(books[\"isbn13\"][i])\n",
    "    sentences = books[\"description\"][i].split(\".\")\n",
    "    predictions = classifier(sentences)\n",
    "    max_scores = calculate_max_emotion_scores(predictions)\n",
    "    for label in emotion_labels:\n",
    "        emotion_scores[label].append(max_scores[label])"
   ],
   "id": "b979cde8bfddbfc6",
   "outputs": [
    {
     "name": "stderr",
     "output_type": "stream",
     "text": [
      "100%|██████████| 5197/5197 [01:30<00:00, 57.22it/s] \n"
     ]
    }
   ],
   "execution_count": 13
  },
  {
   "metadata": {
    "ExecuteTime": {
     "end_time": "2025-05-29T10:07:23.787917Z",
     "start_time": "2025-05-29T10:07:23.777668Z"
    }
   },
   "cell_type": "code",
   "source": [
    "emotions_df = pd.DataFrame(emotion_scores)\n",
    "emotions_df[\"isbn13\"] = isbn"
   ],
   "id": "8fcf4cd97eff662e",
   "outputs": [],
   "execution_count": 14
  },
  {
   "metadata": {
    "ExecuteTime": {
     "end_time": "2025-05-29T10:07:28.196763Z",
     "start_time": "2025-05-29T10:07:28.183456Z"
    }
   },
   "cell_type": "code",
   "source": "emotions_df",
   "id": "55c1a53ddcd419ab",
   "outputs": [
    {
     "data": {
      "text/plain": [
       "         anger   disgust      fear       joy   sadness  surprise   neutral  \\\n",
       "0     0.064134  0.273591  0.928168  0.932797  0.646217  0.967157  0.729603   \n",
       "1     0.612619  0.348285  0.942528  0.704421  0.887940  0.111690  0.252545   \n",
       "2     0.064134  0.104007  0.972321  0.767237  0.549477  0.111690  0.078766   \n",
       "3     0.351484  0.150722  0.360707  0.251881  0.732686  0.111690  0.078766   \n",
       "4     0.081412  0.184495  0.095043  0.040564  0.884390  0.475881  0.078766   \n",
       "...        ...       ...       ...       ...       ...       ...       ...   \n",
       "5192  0.148208  0.030643  0.919165  0.255169  0.853722  0.980877  0.030656   \n",
       "5193  0.064134  0.114383  0.051363  0.400263  0.883198  0.111690  0.227765   \n",
       "5194  0.009997  0.009929  0.339218  0.947779  0.375755  0.066685  0.057625   \n",
       "5195  0.064134  0.104007  0.459270  0.759456  0.951104  0.368111  0.078766   \n",
       "5196  0.064134  0.104007  0.051363  0.958549  0.915193  0.111690  0.078766   \n",
       "\n",
       "             isbn13  \n",
       "0     9780002005883  \n",
       "1     9780002261982  \n",
       "2     9780006178736  \n",
       "3     9780006280897  \n",
       "4     9780006280934  \n",
       "...             ...  \n",
       "5192  9788172235222  \n",
       "5193  9788173031014  \n",
       "5194  9788179921623  \n",
       "5195  9788185300535  \n",
       "5196  9789027712059  \n",
       "\n",
       "[5197 rows x 8 columns]"
      ],
      "text/html": [
       "<div>\n",
       "<style scoped>\n",
       "    .dataframe tbody tr th:only-of-type {\n",
       "        vertical-align: middle;\n",
       "    }\n",
       "\n",
       "    .dataframe tbody tr th {\n",
       "        vertical-align: top;\n",
       "    }\n",
       "\n",
       "    .dataframe thead th {\n",
       "        text-align: right;\n",
       "    }\n",
       "</style>\n",
       "<table border=\"1\" class=\"dataframe\">\n",
       "  <thead>\n",
       "    <tr style=\"text-align: right;\">\n",
       "      <th></th>\n",
       "      <th>anger</th>\n",
       "      <th>disgust</th>\n",
       "      <th>fear</th>\n",
       "      <th>joy</th>\n",
       "      <th>sadness</th>\n",
       "      <th>surprise</th>\n",
       "      <th>neutral</th>\n",
       "      <th>isbn13</th>\n",
       "    </tr>\n",
       "  </thead>\n",
       "  <tbody>\n",
       "    <tr>\n",
       "      <th>0</th>\n",
       "      <td>0.064134</td>\n",
       "      <td>0.273591</td>\n",
       "      <td>0.928168</td>\n",
       "      <td>0.932797</td>\n",
       "      <td>0.646217</td>\n",
       "      <td>0.967157</td>\n",
       "      <td>0.729603</td>\n",
       "      <td>9780002005883</td>\n",
       "    </tr>\n",
       "    <tr>\n",
       "      <th>1</th>\n",
       "      <td>0.612619</td>\n",
       "      <td>0.348285</td>\n",
       "      <td>0.942528</td>\n",
       "      <td>0.704421</td>\n",
       "      <td>0.887940</td>\n",
       "      <td>0.111690</td>\n",
       "      <td>0.252545</td>\n",
       "      <td>9780002261982</td>\n",
       "    </tr>\n",
       "    <tr>\n",
       "      <th>2</th>\n",
       "      <td>0.064134</td>\n",
       "      <td>0.104007</td>\n",
       "      <td>0.972321</td>\n",
       "      <td>0.767237</td>\n",
       "      <td>0.549477</td>\n",
       "      <td>0.111690</td>\n",
       "      <td>0.078766</td>\n",
       "      <td>9780006178736</td>\n",
       "    </tr>\n",
       "    <tr>\n",
       "      <th>3</th>\n",
       "      <td>0.351484</td>\n",
       "      <td>0.150722</td>\n",
       "      <td>0.360707</td>\n",
       "      <td>0.251881</td>\n",
       "      <td>0.732686</td>\n",
       "      <td>0.111690</td>\n",
       "      <td>0.078766</td>\n",
       "      <td>9780006280897</td>\n",
       "    </tr>\n",
       "    <tr>\n",
       "      <th>4</th>\n",
       "      <td>0.081412</td>\n",
       "      <td>0.184495</td>\n",
       "      <td>0.095043</td>\n",
       "      <td>0.040564</td>\n",
       "      <td>0.884390</td>\n",
       "      <td>0.475881</td>\n",
       "      <td>0.078766</td>\n",
       "      <td>9780006280934</td>\n",
       "    </tr>\n",
       "    <tr>\n",
       "      <th>...</th>\n",
       "      <td>...</td>\n",
       "      <td>...</td>\n",
       "      <td>...</td>\n",
       "      <td>...</td>\n",
       "      <td>...</td>\n",
       "      <td>...</td>\n",
       "      <td>...</td>\n",
       "      <td>...</td>\n",
       "    </tr>\n",
       "    <tr>\n",
       "      <th>5192</th>\n",
       "      <td>0.148208</td>\n",
       "      <td>0.030643</td>\n",
       "      <td>0.919165</td>\n",
       "      <td>0.255169</td>\n",
       "      <td>0.853722</td>\n",
       "      <td>0.980877</td>\n",
       "      <td>0.030656</td>\n",
       "      <td>9788172235222</td>\n",
       "    </tr>\n",
       "    <tr>\n",
       "      <th>5193</th>\n",
       "      <td>0.064134</td>\n",
       "      <td>0.114383</td>\n",
       "      <td>0.051363</td>\n",
       "      <td>0.400263</td>\n",
       "      <td>0.883198</td>\n",
       "      <td>0.111690</td>\n",
       "      <td>0.227765</td>\n",
       "      <td>9788173031014</td>\n",
       "    </tr>\n",
       "    <tr>\n",
       "      <th>5194</th>\n",
       "      <td>0.009997</td>\n",
       "      <td>0.009929</td>\n",
       "      <td>0.339218</td>\n",
       "      <td>0.947779</td>\n",
       "      <td>0.375755</td>\n",
       "      <td>0.066685</td>\n",
       "      <td>0.057625</td>\n",
       "      <td>9788179921623</td>\n",
       "    </tr>\n",
       "    <tr>\n",
       "      <th>5195</th>\n",
       "      <td>0.064134</td>\n",
       "      <td>0.104007</td>\n",
       "      <td>0.459270</td>\n",
       "      <td>0.759456</td>\n",
       "      <td>0.951104</td>\n",
       "      <td>0.368111</td>\n",
       "      <td>0.078766</td>\n",
       "      <td>9788185300535</td>\n",
       "    </tr>\n",
       "    <tr>\n",
       "      <th>5196</th>\n",
       "      <td>0.064134</td>\n",
       "      <td>0.104007</td>\n",
       "      <td>0.051363</td>\n",
       "      <td>0.958549</td>\n",
       "      <td>0.915193</td>\n",
       "      <td>0.111690</td>\n",
       "      <td>0.078766</td>\n",
       "      <td>9789027712059</td>\n",
       "    </tr>\n",
       "  </tbody>\n",
       "</table>\n",
       "<p>5197 rows × 8 columns</p>\n",
       "</div>"
      ]
     },
     "execution_count": 15,
     "metadata": {},
     "output_type": "execute_result"
    }
   ],
   "execution_count": 15
  },
  {
   "metadata": {
    "ExecuteTime": {
     "end_time": "2025-05-29T10:07:42.567809Z",
     "start_time": "2025-05-29T10:07:42.562448Z"
    }
   },
   "cell_type": "code",
   "source": "books = pd.merge(books, emotions_df, on = \"isbn13\")",
   "id": "9cc580315a195b28",
   "outputs": [],
   "execution_count": 16
  },
  {
   "metadata": {
    "ExecuteTime": {
     "end_time": "2025-05-29T10:07:53.534588Z",
     "start_time": "2025-05-29T10:07:53.399634Z"
    }
   },
   "cell_type": "code",
   "source": "books.to_csv(\"books_with_emotions.csv\", index = False)",
   "id": "5d39481fbe059f49",
   "outputs": [],
   "execution_count": 17
  }
 ],
 "metadata": {
  "kernelspec": {
   "display_name": "Python 3",
   "language": "python",
   "name": "python3"
  },
  "language_info": {
   "codemirror_mode": {
    "name": "ipython",
    "version": 2
   },
   "file_extension": ".py",
   "mimetype": "text/x-python",
   "name": "python",
   "nbconvert_exporter": "python",
   "pygments_lexer": "ipython2",
   "version": "2.7.6"
  }
 },
 "nbformat": 4,
 "nbformat_minor": 5
}
